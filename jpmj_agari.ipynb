{
 "cells": [
  {
   "cell_type": "markdown",
   "metadata": {},
   "source": [
    "# 日麻聽牌何切 "
   ]
  },
  {
   "cell_type": "code",
   "execution_count": 20,
   "metadata": {},
   "outputs": [],
   "source": [
    "def Is_agari(mj_list) -> bool:\n",
    "    #判斷張數是否正確\n",
    "    if (len(mj_list) not in [14,11,8,5,2]):\n",
    "        return False \n",
    "    c = [0]*34\n",
    "    for i in range(len(mj_list)):\n",
    "        c[mj_list[i]] += 1\n",
    "\n",
    "    #判斷同種牌是否超過4張    \n",
    "    for i in range(len(c)): \n",
    "        if c[i] > 4:\n",
    "            return False\n",
    "    #14張手牌時，判斷特殊牌型\n",
    "    if len(mj_list) == 14:\n",
    "        if c[0]*c[8]*c[9]*c[17]*c[18]*c[26]*c[27]*c[28]*c[29]*c[30]*c[31]*c[32]*c[33] == 2:\n",
    "            return True #國士無雙\n",
    "        if c.count(2) == 7:\n",
    "            return True #七對子\n",
    "\n",
    "    #正常牌型:一雀頭 + 四面子\n",
    "    def Is_agari_impl(mj_list, jam = -1, ker_list = [], shuen_list = []) -> bool: #py傳入list可以被更改，所以放進去的牌要記得拿出來\n",
    "        if(len(mj_list) == 0):\n",
    "            #print('jam = ', jam, 'ker_list = ', ker_list, 'shuen_list = ', shuen_list)\n",
    "            return True\n",
    "        #print('mj_list = ', mj_list, 'c = ',c)\n",
    "        if jam == -1: #還沒有雀頭，選一對當作雀頭\n",
    "            possible_jam_list = []\n",
    "            for i in range(len(c)):\n",
    "                if c[i] >=2:\n",
    "                    possible_jam_list.append(i)\n",
    "            for i in possible_jam_list:  \n",
    "                mj_list.remove(i) #把雀頭拿出來\n",
    "                mj_list.remove(i)\n",
    "                c[i] -= 2\n",
    "                jam = i\n",
    "                if Is_agari_impl(mj_list, jam, ker_list, shuen_list):\n",
    "                    #print('jam = ', jam, 'ker_list = ', ker_list, 'shuen_list = ', shuen_list)\n",
    "                    return True\n",
    "                mj_list.append(i) #把雀頭放回去\n",
    "                mj_list.append(i)\n",
    "                mj_list.sort()\n",
    "                c[i] += 2\n",
    "                jam = -1\n",
    "                \n",
    "        if jam != -1 : #有了雀頭的情況\n",
    "            #找刻子\n",
    "            possible_ker_list = []\n",
    "            for i in range(len(c)):\n",
    "                if c[i] >=3:\n",
    "                    possible_ker_list.append(i)\n",
    "            for i in possible_ker_list:\n",
    "                mj_list.remove(i) #把刻子拿出來\n",
    "                mj_list.remove(i)\n",
    "                mj_list.remove(i)\n",
    "                c[i] -= 3\n",
    "                ker_list.append(i)\n",
    "                if Is_agari_impl(mj_list, jam, ker_list, shuen_list):\n",
    "                    #print('jam = ', jam, 'ker_list = ', ker_list, 'shuen_list = ', shuen_list)\n",
    "                    return True\n",
    "                mj_list.append(i) #把刻子放回去\n",
    "                mj_list.append(i)\n",
    "                mj_list.append(i)\n",
    "                mj_list.sort()\n",
    "                c[i] += 3\n",
    "                ker_list.remove(i)\n",
    "            #找順子\n",
    "            possible_shuen_list = []\n",
    "            for i in (list(range(0,7)) + list(range(9,16)) + list(range(18,25))): #從1~7萬找 從1~7筒找 從1~7條找\n",
    "                if (i in mj_list) and ((i + 1) in mj_list) and ((i + 2) in mj_list):\n",
    "                    possible_shuen_list.append(i)\n",
    "            for i in possible_shuen_list:\n",
    "                mj_list.remove(i) #把順子拿出來\n",
    "                mj_list.remove(i+1)\n",
    "                mj_list.remove(i+2)\n",
    "                c[i] -= 1\n",
    "                c[i+1] -= 1\n",
    "                c[i+2] -= 1\n",
    "                shuen_list.append(i)\n",
    "                if Is_agari_impl(mj_list, jam, ker_list, shuen_list):\n",
    "                    #print('jam = ', jam, 'ker_list = ', ker_list, 'shuen_list = ', shuen_list)\n",
    "                    return True\n",
    "                mj_list.append(i) #把順子放回去\n",
    "                mj_list.append(i+1)\n",
    "                mj_list.append(i+2)\n",
    "                mj_list.sort()\n",
    "                c[i] += 1\n",
    "                c[i+1] += 1\n",
    "                c[i+2] += 1\n",
    "                shuen_list.remove(i)\n",
    "        return False\n",
    "    \n",
    "    return Is_agari_impl(mj_list)\n",
    "    #這程式只是簡單的判斷和了，但有存手牌到底有幾個刻還有順子。\n",
    "    #之後可以再進階，配合副露(還有槓牌)做標記，以及其他特殊役種的優先判斷，以計算翻數和符數求得胡牌點數，以及場況以判斷最佳手"
   ]
  },
  {
   "cell_type": "code",
   "execution_count": 21,
   "metadata": {},
   "outputs": [],
   "source": [
    "tup1 = ('1m','2m','3m','4m','5m','6m','7m','8m','9m', #建立轉換顯示的列表1\n",
    "        '1p','2p','3p','4p','5p','6p','7p','8p','9p',\n",
    "        '1s','2s','3s','4s','5s','6s','7s','8s','9s',\n",
    "        '1z','2z','3z','4z','5z','6z','7z')\n",
    "tup2 = ('1萬','2萬','3萬','4萬','5萬','6萬','7萬','8萬','9萬', #建立轉換顯示的列表2\n",
    "        '1筒','2筒','3筒','4筒','5筒','6筒','7筒','8筒','9筒',\n",
    "        '1條','2條','3條','4條','5條','6條','7條','8條','9條',\n",
    "        '東','南','西','北','白','發','中')"
   ]
  },
  {
   "cell_type": "code",
   "execution_count": 22,
   "metadata": {},
   "outputs": [],
   "source": [
    "def tenpai(mjlist, show_style = 1): \n",
    "    agari_list = [] #蒐集所有可以聽牌的牌\n",
    "    for i in range(34): #把每一種牌都放進牌裡，看看有沒有聽牌\n",
    "        mj_list = mjlist.copy()\n",
    "        mj_list.append(i)\n",
    "        mj_list.sort()\n",
    "        if Is_agari(mj_list):\n",
    "            agari_list.append(i) #這邊和上面遞迴回傳list不一樣，agari_list沒有回傳，\n",
    "        #mj_list.remove(i)       #所以不用move掉放進去的牌\n",
    "    return agari_list\n",
    "    \n",
    "#    if len(agari_list) == 0:\n",
    "#        print('還沒有聽牌')\n",
    "#    else:\n",
    "#        print('聽',end = ' ')\n",
    "#        if show_style == 1:\n",
    "#            for i in agari_list:\n",
    "#                print(tup1[agari_list[i]],end = '')\n",
    "#        if show_style == 2:\n",
    "#            for i in agari_list:\n",
    "#                print(tup2[agari_list[i]],end = ' ')\n",
    "    \n",
    "        "
   ]
  },
  {
   "cell_type": "code",
   "execution_count": 23,
   "metadata": {},
   "outputs": [
    {
     "name": "stdout",
     "output_type": "stream",
     "text": [
      "日麻何切判斷~ \n",
      "請輸入手牌(不含副露): 一到九萬: 1~9m 一到九筒: 1~9p 一到九條: 1~9s 東南西北白發中: 1~7z 範例: 11123456789999m (九蓮寶燈)\n",
      "手牌: (以中文表示請前加#)  \n"
     ]
    }
   ],
   "source": [
    "style = 1\n",
    "print('日麻何切判斷~ ')\n",
    "print('請輸入手牌(不含副露): 一到九萬: 1~9m 一到九筒: 1~9p 一到九條: 1~9s 東南西北白發中: 1~7z 範例: 11123456789999m (九蓮寶燈)')\n",
    "mjstr = input('手牌: (以中文表示請前加#)  ') or '11123456789999m' \n",
    "if(mjstr[0] == '#'):\n",
    "    style = 2\n",
    "    mjstr = mjstr[1:]\n",
    "\n",
    "mj_list = []\n",
    "if mjstr.find('m') != -1:\n",
    "    for i in range(mjstr.find('m')):\n",
    "        mj_list.append(int(mjstr[i]) - 1)  #1~9萬 = 0~8\n",
    "if mjstr.find('p') != -1:                      \n",
    "    for i in range(mjstr.find('m') + 1, mjstr.find('p')):\n",
    "        mj_list.append(int(mjstr[i]) + 8)  #1~9筒 = 9~17\n",
    "if mjstr.find('s') != -1:                      \n",
    "    for i in range(mjstr.find('p') + 1, mjstr.find('s')):\n",
    "        mj_list.append(int(mjstr[i]) + 17)  #1~9條 = 18~26\n",
    "if mjstr.find('z') != -1:                      \n",
    "    for i in range(mjstr.find('s') + 1, mjstr.find('z')):\n",
    "        mj_list.append(int(mjstr[i]) + 26)  #東南西北白發中 = 27~33\n",
    "mj_list.sort()"
   ]
  },
  {
   "cell_type": "code",
   "execution_count": 24,
   "metadata": {
    "scrolled": true
   },
   "outputs": [
    {
     "name": "stdout",
     "output_type": "stream",
     "text": [
      "手牌: \n",
      "[0, 0, 0, 1, 2, 3, 4, 5, 6, 7, 8, 8, 8, 8]\n",
      "1m1m1m2m3m4m5m6m7m8m9m9m9m9m"
     ]
    }
   ],
   "source": [
    "print('手牌: ')\n",
    "if style == 1:\n",
    "    print(mj_list)\n",
    "    for i in mj_list:\n",
    "        print(tup1[i], end = '')\n",
    "if style == 2:\n",
    "    for i in mj_list:\n",
    "        print(tup2[i], end = ' ')"
   ]
  },
  {
   "cell_type": "code",
   "execution_count": 25,
   "metadata": {},
   "outputs": [],
   "source": [
    "mj_kind = []\n",
    "for i in mj_list:\n",
    "    if i not in mj_kind:\n",
    "        mj_kind.append(i)"
   ]
  },
  {
   "cell_type": "code",
   "execution_count": 26,
   "metadata": {},
   "outputs": [
    {
     "data": {
      "text/plain": [
       "[0, 1, 2, 3, 4, 5, 6, 7, 8]"
      ]
     },
     "execution_count": 26,
     "metadata": {},
     "output_type": "execute_result"
    }
   ],
   "source": [
    "mj_kind"
   ]
  },
  {
   "cell_type": "code",
   "execution_count": 27,
   "metadata": {},
   "outputs": [
    {
     "name": "stdout",
     "output_type": "stream",
     "text": [
      "已經胡了~\n",
      "打 1m 聽1m 4m 7m \n",
      "打 2m 聽2m 3m 6m \n",
      "打 3m 聽2m 3m \n",
      "打 4m 聽4m 7m \n",
      "打 5m 聽5m 6m \n",
      "打 6m 聽2m 3m 5m 6m \n",
      "打 7m 聽7m \n",
      "打 8m 聽8m \n",
      "打 9m 聽1m 2m 3m 4m 5m 6m 7m 8m 9m \n"
     ]
    }
   ],
   "source": [
    "mjlist = mj_list.copy() #mj_list 長的 mjlist短的\n",
    "if Is_agari(mj_list):\n",
    "    print('已經胡了~')\n",
    "for i in mj_kind:\n",
    "    mjlist.remove(i)\n",
    "    #print(mjlist)\n",
    "    if len(tenpai(mjlist)) != 0:\n",
    "        print('打', tup1[i], '聽',end = '')\n",
    "        for j in tenpai(mjlist):\n",
    "            print(tup1[j], end = ' ')\n",
    "        print('')  \n",
    "    mjlist.append(i)\n",
    "    mjlist.sort()\n",
    "    "
   ]
  }
 ],
 "metadata": {
  "kernelspec": {
   "display_name": "Python 3",
   "language": "python",
   "name": "python3"
  },
  "language_info": {
   "codemirror_mode": {
    "name": "ipython",
    "version": 3
   },
   "file_extension": ".py",
   "mimetype": "text/x-python",
   "name": "python",
   "nbconvert_exporter": "python",
   "pygments_lexer": "ipython3",
   "version": "3.6.8"
  }
 },
 "nbformat": 4,
 "nbformat_minor": 2
}
