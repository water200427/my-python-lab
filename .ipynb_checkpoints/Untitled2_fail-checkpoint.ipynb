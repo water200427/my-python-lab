{
 "cells": [
  {
   "cell_type": "code",
   "execution_count": null,
   "metadata": {},
   "outputs": [],
   "source": [
    "%matplotlib inline\n",
    "import matplotlib.pyplot as plt\n",
    "import numpy as np\n",
    "import matplotlib as mpl"
   ]
  },
  {
   "cell_type": "code",
   "execution_count": null,
   "metadata": {},
   "outputs": [],
   "source": [
    "mjstr = '1112345678999m'\n",
    "mjstr = input('請輸入手牌') or '19m19p19s1234567z' #一到九萬: 1~9m 一到九筒: 1~9p 一到九條: 1~9s 東南西北中白發: 1~7z ex: 11123456789999m (九蓮寶燈)"
   ]
  },
  {
   "cell_type": "code",
   "execution_count": null,
   "metadata": {},
   "outputs": [],
   "source": [
    "mjstr"
   ]
  },
  {
   "cell_type": "code",
   "execution_count": null,
   "metadata": {},
   "outputs": [],
   "source": [
    "mjlist = []\n"
   ]
  },
  {
   "cell_type": "code",
   "execution_count": null,
   "metadata": {},
   "outputs": [],
   "source": [
    "if mjstr.find('m') != -1:\n",
    "    for i in range(mjstr.find('m')):\n",
    "        mjlist.append(int(mjstr[i]) - 1)  #1~9萬 = 0~8\n",
    "if mjstr.find('p') != -1:                      \n",
    "    for i in range(mjstr.find('m') + 1, mjstr.find('p')):\n",
    "        mjlist.append(int(mjstr[i]) + 8)  #1~9筒 = 9~17\n",
    "if mjstr.find('s') != -1:                      \n",
    "    for i in range(mjstr.find('p') + 1, mjstr.find('s')):\n",
    "        mjlist.append(int(mjstr[i]) + 17)  #1~9條 = 18~26\n",
    "if mjstr.find('z') != -1:                      \n",
    "    for i in range(mjstr.find('s') + 1, mjstr.find('z')):\n",
    "        mjlist.append(int(mjstr[i]) + 26)  #東南西北中白發 = 27~33"
   ]
  },
  {
   "cell_type": "code",
   "execution_count": null,
   "metadata": {},
   "outputs": [],
   "source": [
    "mjlist"
   ]
  },
  {
   "cell_type": "code",
   "execution_count": null,
   "metadata": {},
   "outputs": [],
   "source": [
    "def Is_agari(mj_list, jam = -1, ker_list = [], shuen_list = []) -> bool:\n",
    "    \n",
    "    print('mj_list = ',mj_list, 'jam = ',jam , 'ker_list', ker_list, 'shuen_list = ', shuen_list )\n",
    "    print(' ')\n",
    "    \n",
    "    #判斷張數是否正確\n",
    "    if (len(mj_list) not in [14,11,8,5,2]) and (jam == -1):\n",
    "        return False \n",
    "    \n",
    "    if(len(mj_list) == 0):\n",
    "        return True\n",
    "    \n",
    "    c = [0]*34\n",
    "    for i in range(len(mj_list)):\n",
    "        c[mj_list[i]] += 1\n",
    "        \n",
    "    #判斷同種牌是否超過4張    \n",
    "    for i in range(len(c)): \n",
    "        if c[i] > 4:\n",
    "            return False\n",
    "        \n",
    "    if c[0]*c[8]*c[9]*c[17]*c[18]*c[26]*c[27]*c[28]*c[29]*c[30]*c[31]*c[32]*c[33] == 2:\n",
    "        return True #國士無雙\n",
    "    if c.count(2) == 7:\n",
    "        return True #七對子\n",
    "    \n",
    "    #正常牌型:一雀頭 + 四面子\n",
    "    if jam == -1: #還沒有雀頭，選一對當作雀頭\n",
    "        possible_jam_list = []\n",
    "        for i in range(len(c)):\n",
    "            if c[i] >=2:\n",
    "                possible_jam_list.append(i)\n",
    "        #print('possible_jam_list = ', possible_jam_list)\n",
    "        for i in possible_jam_list:  \n",
    "            mj_list.remove(i) #把雀頭拿出來\n",
    "            mj_list.remove(i)\n",
    "            jam = i\n",
    "            return Is_agari(mj_list, jam, ker_list, shuen_list)\n",
    "            mj_list.append(i) #把雀頭放回去\n",
    "            mj_list.append(i)\n",
    "            mj_list.sort()\n",
    "            jam = -1\n",
    "    else: #有了雀頭的情況\n",
    "        #找刻子\n",
    "        possible_ker_list = []\n",
    "        for i in range(len(c)):\n",
    "            if c[i] >=3:\n",
    "                possible_ker_list.append(i)\n",
    "        for i in possible_ker_list:\n",
    "            mj_list.remove(i) #把刻子拿出來\n",
    "            mj_list.remove(i)\n",
    "            mj_list.remove(i)\n",
    "            ker_list.append(i)\n",
    "            return Is_agari(mj_list, jam, ker_list, shuen_list)\n",
    "            mj_list.append(i) #把刻子放回去\n",
    "            mj_list.append(i)\n",
    "            mj_list.append(i)\n",
    "            mj_list.sort()\n",
    "            ker_list.remove(i)\n",
    "        #找順子\n",
    "        possible_shuen_list = []\n",
    "        for i in range(0,7): #從1~7萬找\n",
    "            if (i in mj_list) and ((i + 1) in mj_list) and ((i + 2) in mj_list):\n",
    "                possible_shuen_list.append(i)\n",
    "        for i in possible_shuen_list:\n",
    "            mj_list.remove(i) #把順子拿出來\n",
    "            mj_list.remove(i+1)\n",
    "            mj_list.remove(i+2)\n",
    "            shuen_list.append(i)\n",
    "            return Is_agari(mj_list, jam, ker_list, shuen_list)\n",
    "            mj_list.append(i) #把順子放回去\n",
    "            mj_list.append(i+1)\n",
    "            mj_list.append(i+2)\n",
    "            mj_list.sort()\n",
    "            shuen_list.remove(i)\n",
    "        return False\n",
    "                "
   ]
  },
  {
   "cell_type": "code",
   "execution_count": null,
   "metadata": {},
   "outputs": [],
   "source": [
    "def tenpai(mjlist):\n",
    "    agari_list = [] \n",
    "    for i in range(34):\n",
    "        mj_list = mjlist.copy()\n",
    "        mj_list.append(i)\n",
    "        mj_list.sort()\n",
    "        if Is_agari(mj_list):\n",
    "            agari_list.append(i)\n",
    "        #mj_list.remove(i)\n",
    "        \n",
    "    if len(agari_list) == 0:\n",
    "        print('還沒有聽牌')\n",
    "    else:\n",
    "        print('聽',agari_list)\n",
    "    \n",
    "        "
   ]
  },
  {
   "cell_type": "code",
   "execution_count": null,
   "metadata": {},
   "outputs": [],
   "source": [
    "Is_agari([0, 0, 0, 1,1])"
   ]
  },
  {
   "cell_type": "code",
   "execution_count": null,
   "metadata": {},
   "outputs": [],
   "source": [
    "Is_agari([0, 0, 0, 1,1,2])"
   ]
  }
 ],
 "metadata": {
  "kernelspec": {
   "display_name": "Python 3",
   "language": "python",
   "name": "python3"
  },
  "language_info": {
   "codemirror_mode": {
    "name": "ipython",
    "version": 3
   },
   "file_extension": ".py",
   "mimetype": "text/x-python",
   "name": "python",
   "nbconvert_exporter": "python",
   "pygments_lexer": "ipython3",
   "version": "3.6.8"
  }
 },
 "nbformat": 4,
 "nbformat_minor": 2
}
