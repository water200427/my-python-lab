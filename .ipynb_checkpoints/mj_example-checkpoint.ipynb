{
 "cells": [
  {
   "cell_type": "code",
   "execution_count": 1,
   "metadata": {},
   "outputs": [],
   "source": [
    "\n",
    "from collections import Counter\n",
    "\n",
    "\n",
    "def is_agari(tehai) -> bool:\n",
    "    def is_agari_impl(tehai_cnt: Counter, rest_tiles: int) -> bool:\n",
    "        \"\"\"\n",
    "        Args:\n",
    "            tehai_cnt: 各种牌的枚数信息\n",
    "            rest_tiles: 剩余手牌张数\n",
    "        \"\"\"\n",
    "        if rest_tiles == 0:\n",
    "            return True\n",
    "        min_tile = min(filter(lambda x: tehai_cnt[x], tehai_cnt.keys()))\n",
    "        # 拆刻子\n",
    "        if tehai_cnt[min_tile] >= 3:\n",
    "            tehai_cnt[min_tile] -= 3\n",
    "            if is_agari_impl(tehai_cnt, rest_tiles - 3):\n",
    "                return True\n",
    "            tehai_cnt[min_tile] += 3\n",
    "        # 拆雀头\n",
    "        if rest_tiles % 3 and tehai_cnt[min_tile] >= 2:\n",
    "            tehai_cnt[min_tile] -= 2\n",
    "            if is_agari_impl(tehai_cnt, rest_tiles - 2):\n",
    "                return True\n",
    "            tehai_cnt[min_tile] += 2\n",
    "        # 拆顺子\n",
    "        if (min_tile < 27 and min_tile % 9 < 7 \n",
    "                and tehai_cnt[min_tile + 1] and tehai_cnt[min_tile + 2]):\n",
    "            tehai_cnt[min_tile] -= 1\n",
    "            tehai_cnt[min_tile + 1] -= 1\n",
    "            tehai_cnt[min_tile + 2] -= 1\n",
    "            if is_agari_impl(tehai_cnt, rest_tiles - 3):\n",
    "                return True\n",
    "            tehai_cnt[min_tile + 2] += 1\n",
    "            tehai_cnt[min_tile + 1] += 1\n",
    "            tehai_cnt[min_tile] += 1\n",
    "        return False\n",
    "\n",
    "    return is_agari_impl(Counter(tehai), len(tehai)) if len(tehai) % 3 == 2 else False"
   ]
  },
  {
   "cell_type": "code",
   "execution_count": 11,
   "metadata": {},
   "outputs": [],
   "source": [
    "test = [0,0,0,1,2,3,4,5,5,5,5,6,7]"
   ]
  },
  {
   "cell_type": "code",
   "execution_count": 12,
   "metadata": {},
   "outputs": [
    {
     "name": "stdout",
     "output_type": "stream",
     "text": [
      "0\n",
      "1\n",
      "2\n",
      "3\n",
      "4\n",
      "5\n",
      "6\n",
      "7\n",
      "8\n"
     ]
    }
   ],
   "source": [
    "for i in range(34):\n",
    "    s = test + [i]\n",
    "    s.sort()\n",
    "    if is_agari(s):\n",
    "        print(i)\n",
    "    s.remove(i)"
   ]
  },
  {
   "cell_type": "code",
   "execution_count": null,
   "metadata": {},
   "outputs": [],
   "source": [
    "min()\n",
    "filter()"
   ]
  }
 ],
 "metadata": {
  "kernelspec": {
   "display_name": "Python 3",
   "language": "python",
   "name": "python3"
  },
  "language_info": {
   "codemirror_mode": {
    "name": "ipython",
    "version": 3
   },
   "file_extension": ".py",
   "mimetype": "text/x-python",
   "name": "python",
   "nbconvert_exporter": "python",
   "pygments_lexer": "ipython3",
   "version": "3.6.8"
  }
 },
 "nbformat": 4,
 "nbformat_minor": 2
}
