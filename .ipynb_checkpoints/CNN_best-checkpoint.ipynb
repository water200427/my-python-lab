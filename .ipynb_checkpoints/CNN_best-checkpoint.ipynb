{
 "cells": [
  {
   "cell_type": "code",
   "execution_count": 1,
   "metadata": {
    "colab": {
     "base_uri": "https://localhost:8080/",
     "height": 34
    },
    "colab_type": "code",
    "id": "ajwiOAEOwa5_",
    "outputId": "a76b9ee1-2d2c-4e11-e102-0659133a54e3"
   },
   "outputs": [
    {
     "name": "stdout",
     "output_type": "stream",
     "text": [
      "env: KERAS_BACKEND=tensorflow\n"
     ]
    }
   ],
   "source": [
    "env KERAS_BACKEND=tensorflow"
   ]
  },
  {
   "cell_type": "code",
   "execution_count": 2,
   "metadata": {
    "colab": {
     "base_uri": "https://localhost:8080/",
     "height": 34
    },
    "colab_type": "code",
    "id": "SR5xwdpp1ZnX",
    "outputId": "a3293cb9-d53b-427b-b704-fe391a252f6a"
   },
   "outputs": [
    {
     "name": "stderr",
     "output_type": "stream",
     "text": [
      "Using TensorFlow backend.\n"
     ]
    }
   ],
   "source": [
    "%matplotlib inline\n",
    "import matplotlib.pyplot as plt\n",
    "import numpy as np\n",
    "\n",
    "from keras.datasets import mnist\n",
    "from keras.utils import np_utils\n",
    "from keras.models import Sequential\n",
    "from keras.layers import Dense, Activation, Flatten\n",
    "from keras.layers import Conv2D, MaxPool2D\n",
    "from keras.optimizers import SGD, Adam"
   ]
  },
  {
   "cell_type": "code",
   "execution_count": 0,
   "metadata": {
    "colab": {},
    "colab_type": "code",
    "id": "P0YATn3o1aKe"
   },
   "outputs": [],
   "source": [
    "(x_train, y_train), (x_test, y_test) = mnist.load_data()"
   ]
  },
  {
   "cell_type": "code",
   "execution_count": 0,
   "metadata": {
    "colab": {},
    "colab_type": "code",
    "id": "mt7b4SjU1dJ_"
   },
   "outputs": [],
   "source": [
    "x_train = x_train.reshape(60000, 28, 28, 1)\n",
    "x_test = x_test.reshape(10000, 28, 28, 1)\n",
    "\n",
    "y_train = np_utils.to_categorical(y_train, 10)\n",
    "y_test = np_utils.to_categorical(y_test, 10)\n",
    "\n",
    "x_train = x_train / 255 #nomalize\n",
    "x_test = x_test / 255"
   ]
  },
  {
   "cell_type": "markdown",
   "metadata": {
    "colab_type": "text",
    "id": "auxahCBo4qW3"
   },
   "source": [
    "## 改進項目(神經網路架構)\n",
    "*   增加CNN層到3層，filter大小依序是5x5，4x4，3x3\n",
    "*   增加filter的個數到16, 32, 64個\n",
    "*   CNN層，不使用bias\n",
    "*   增加NN層到2層，\n",
    "*   增加NN層的神經元個數達256, 128個\n"
   ]
  },
  {
   "cell_type": "code",
   "execution_count": 7,
   "metadata": {
    "colab": {
     "base_uri": "https://localhost:8080/",
     "height": 88
    },
    "colab_type": "code",
    "id": "tYRsZiMz1ek8",
    "outputId": "ace6a685-5a90-4702-c6a7-92849a30c472"
   },
   "outputs": [
    {
     "name": "stdout",
     "output_type": "stream",
     "text": [
      "WARNING:tensorflow:From /usr/local/lib/python3.6/dist-packages/tensorflow/python/framework/op_def_library.py:263: colocate_with (from tensorflow.python.framework.ops) is deprecated and will be removed in a future version.\n",
      "Instructions for updating:\n",
      "Colocations handled automatically by placer.\n"
     ]
    }
   ],
   "source": [
    "model = Sequential()\n",
    "\n",
    "model.add(Conv2D(16, (4 ,4),use_bias=False, padding = 'same', input_shape = (28, 28, 1)))  #第一層\n",
    "model.add(Activation('relu'))\n",
    "model.add(MaxPool2D(pool_size = (2, 2)))\n",
    "\n",
    "model.add(Conv2D(32, (3 ,3),use_bias=False, padding = 'same')) #第二層\n",
    "model.add(Activation('relu'))\n",
    "model.add(MaxPool2D(pool_size = (2, 2)))\n",
    "\n",
    "model.add(Conv2D(64, (2 ,2),use_bias=False, padding = 'same')) #第三層\n",
    "model.add(Activation('relu'))\n",
    "model.add(MaxPool2D(pool_size = (2, 2)))\n",
    "\n",
    "model.add(Flatten()) #拉平\n",
    "\n",
    "model.add(Dense(256)) #NN層\n",
    "model.add(Activation('relu'))\n",
    "\n",
    "model.add(Dense(128)) #NN層2\n",
    "model.add(Activation('relu'))\n",
    "\n",
    "model.add(Dense(10)) #輸出層\n",
    "model.add(Activation('softmax'))"
   ]
  },
  {
   "cell_type": "code",
   "execution_count": 8,
   "metadata": {
    "colab": {
     "base_uri": "https://localhost:8080/",
     "height": 680
    },
    "colab_type": "code",
    "id": "6Qle7mfX1vJq",
    "outputId": "380b1e0c-3190-4cdd-d2d2-3c637ab207ea"
   },
   "outputs": [
    {
     "name": "stdout",
     "output_type": "stream",
     "text": [
      "_________________________________________________________________\n",
      "Layer (type)                 Output Shape              Param #   \n",
      "=================================================================\n",
      "conv2d_3 (Conv2D)            (None, 28, 28, 16)        256       \n",
      "_________________________________________________________________\n",
      "activation_1 (Activation)    (None, 28, 28, 16)        0         \n",
      "_________________________________________________________________\n",
      "max_pooling2d_1 (MaxPooling2 (None, 14, 14, 16)        0         \n",
      "_________________________________________________________________\n",
      "conv2d_4 (Conv2D)            (None, 14, 14, 32)        4608      \n",
      "_________________________________________________________________\n",
      "activation_2 (Activation)    (None, 14, 14, 32)        0         \n",
      "_________________________________________________________________\n",
      "max_pooling2d_2 (MaxPooling2 (None, 7, 7, 32)          0         \n",
      "_________________________________________________________________\n",
      "conv2d_5 (Conv2D)            (None, 7, 7, 64)          8192      \n",
      "_________________________________________________________________\n",
      "activation_3 (Activation)    (None, 7, 7, 64)          0         \n",
      "_________________________________________________________________\n",
      "max_pooling2d_3 (MaxPooling2 (None, 3, 3, 64)          0         \n",
      "_________________________________________________________________\n",
      "flatten_1 (Flatten)          (None, 576)               0         \n",
      "_________________________________________________________________\n",
      "dense_1 (Dense)              (None, 256)               147712    \n",
      "_________________________________________________________________\n",
      "activation_4 (Activation)    (None, 256)               0         \n",
      "_________________________________________________________________\n",
      "dense_2 (Dense)              (None, 128)               32896     \n",
      "_________________________________________________________________\n",
      "activation_5 (Activation)    (None, 128)               0         \n",
      "_________________________________________________________________\n",
      "dense_3 (Dense)              (None, 10)                1290      \n",
      "_________________________________________________________________\n",
      "activation_6 (Activation)    (None, 10)                0         \n",
      "=================================================================\n",
      "Total params: 194,954\n",
      "Trainable params: 194,954\n",
      "Non-trainable params: 0\n",
      "_________________________________________________________________\n"
     ]
    }
   ],
   "source": [
    "model.summary()"
   ]
  },
  {
   "cell_type": "markdown",
   "metadata": {
    "colab_type": "text",
    "id": "CE3UuOut6g7R"
   },
   "source": [
    "## 改進項目(compile)\n",
    "\n",
    "\n",
    "*   loss function選binary_crossentropy\n",
    "*   optimizer選Adam, 並增加decay=$10^{-6}$\n",
    "\n"
   ]
  },
  {
   "cell_type": "code",
   "execution_count": 0,
   "metadata": {
    "colab": {},
    "colab_type": "code",
    "id": "8DQ__r5L2DlF"
   },
   "outputs": [],
   "source": [
    "model.compile(loss='binary_crossentropy', optimizer = Adam(lr = 0.001, decay=1e-6), metrics = ['acc'])"
   ]
  },
  {
   "cell_type": "markdown",
   "metadata": {
    "colab_type": "text",
    "id": "GF75Z3UA7Zpj"
   },
   "source": [
    "## 改進項目(fit)\n",
    "\n",
    "\n",
    "*   batch size 減少到64\n",
    "*   epochs=30\n",
    "\n"
   ]
  },
  {
   "cell_type": "code",
   "execution_count": 10,
   "metadata": {
    "colab": {
     "base_uri": "https://localhost:8080/",
     "height": 1125
    },
    "colab_type": "code",
    "id": "jPtT3AJb1vwv",
    "outputId": "36db262e-0e47-4993-a09d-153cc6b1580a"
   },
   "outputs": [
    {
     "name": "stdout",
     "output_type": "stream",
     "text": [
      "WARNING:tensorflow:From /usr/local/lib/python3.6/dist-packages/tensorflow/python/ops/math_ops.py:3066: to_int32 (from tensorflow.python.ops.math_ops) is deprecated and will be removed in a future version.\n",
      "Instructions for updating:\n",
      "Use tf.cast instead.\n",
      "Train on 60000 samples, validate on 10000 samples\n",
      "Epoch 1/30\n",
      "60000/60000 [==============================] - 61s 1ms/step - loss: 0.0334 - acc: 0.9885 - val_loss: 0.0117 - val_acc: 0.9959\n",
      "Epoch 2/30\n",
      "60000/60000 [==============================] - 61s 1ms/step - loss: 0.0107 - acc: 0.9965 - val_loss: 0.0067 - val_acc: 0.9976\n",
      "Epoch 3/30\n",
      "60000/60000 [==============================] - 61s 1ms/step - loss: 0.0076 - acc: 0.9974 - val_loss: 0.0069 - val_acc: 0.9976\n",
      "Epoch 4/30\n",
      "60000/60000 [==============================] - 61s 1ms/step - loss: 0.0061 - acc: 0.9980 - val_loss: 0.0056 - val_acc: 0.9979\n",
      "Epoch 5/30\n",
      "60000/60000 [==============================] - 61s 1ms/step - loss: 0.0051 - acc: 0.9983 - val_loss: 0.0090 - val_acc: 0.9971\n",
      "Epoch 6/30\n",
      "60000/60000 [==============================] - 61s 1ms/step - loss: 0.0044 - acc: 0.9986 - val_loss: 0.0048 - val_acc: 0.9984\n",
      "Epoch 7/30\n",
      "60000/60000 [==============================] - 61s 1ms/step - loss: 0.0039 - acc: 0.9987 - val_loss: 0.0069 - val_acc: 0.9979\n",
      "Epoch 8/30\n",
      "60000/60000 [==============================] - 61s 1ms/step - loss: 0.0031 - acc: 0.9989 - val_loss: 0.0067 - val_acc: 0.9980\n",
      "Epoch 9/30\n",
      "60000/60000 [==============================] - 61s 1ms/step - loss: 0.0030 - acc: 0.9990 - val_loss: 0.0057 - val_acc: 0.9984\n",
      "Epoch 10/30\n",
      "60000/60000 [==============================] - 61s 1ms/step - loss: 0.0026 - acc: 0.9992 - val_loss: 0.0062 - val_acc: 0.9982\n",
      "Epoch 11/30\n",
      "60000/60000 [==============================] - 61s 1ms/step - loss: 0.0023 - acc: 0.9992 - val_loss: 0.0085 - val_acc: 0.9974\n",
      "Epoch 12/30\n",
      "60000/60000 [==============================] - 60s 1ms/step - loss: 0.0021 - acc: 0.9993 - val_loss: 0.0076 - val_acc: 0.9977\n",
      "Epoch 13/30\n",
      "60000/60000 [==============================] - 60s 1ms/step - loss: 0.0021 - acc: 0.9993 - val_loss: 0.0074 - val_acc: 0.9981\n",
      "Epoch 14/30\n",
      "60000/60000 [==============================] - 61s 1ms/step - loss: 0.0018 - acc: 0.9994 - val_loss: 0.0070 - val_acc: 0.9983\n",
      "Epoch 15/30\n",
      "60000/60000 [==============================] - 60s 1ms/step - loss: 0.0016 - acc: 0.9995 - val_loss: 0.0076 - val_acc: 0.9984\n",
      "Epoch 16/30\n",
      "60000/60000 [==============================] - 60s 999us/step - loss: 0.0016 - acc: 0.9995 - val_loss: 0.0065 - val_acc: 0.9985\n",
      "Epoch 17/30\n",
      "60000/60000 [==============================] - 60s 1ms/step - loss: 0.0012 - acc: 0.9996 - val_loss: 0.0127 - val_acc: 0.9971\n",
      "Epoch 18/30\n",
      "60000/60000 [==============================] - 60s 1ms/step - loss: 0.0016 - acc: 0.9994 - val_loss: 0.0058 - val_acc: 0.9985\n",
      "Epoch 19/30\n",
      "60000/60000 [==============================] - 62s 1ms/step - loss: 0.0013 - acc: 0.9996 - val_loss: 0.0055 - val_acc: 0.9986\n",
      "Epoch 20/30\n",
      "60000/60000 [==============================] - 62s 1ms/step - loss: 0.0015 - acc: 0.9995 - val_loss: 0.0073 - val_acc: 0.9983\n",
      "Epoch 21/30\n",
      "60000/60000 [==============================] - 61s 1ms/step - loss: 0.0012 - acc: 0.9996 - val_loss: 0.0074 - val_acc: 0.9985\n",
      "Epoch 22/30\n",
      "60000/60000 [==============================] - 62s 1ms/step - loss: 0.0011 - acc: 0.9996 - val_loss: 0.0075 - val_acc: 0.9983\n",
      "Epoch 23/30\n",
      "60000/60000 [==============================] - 62s 1ms/step - loss: 8.9642e-04 - acc: 0.9997 - val_loss: 0.0085 - val_acc: 0.9981\n",
      "Epoch 24/30\n",
      "60000/60000 [==============================] - 62s 1ms/step - loss: 0.0015 - acc: 0.9995 - val_loss: 0.0081 - val_acc: 0.9981\n",
      "Epoch 25/30\n",
      "60000/60000 [==============================] - 62s 1ms/step - loss: 0.0012 - acc: 0.9997 - val_loss: 0.0068 - val_acc: 0.9986\n",
      "Epoch 26/30\n",
      "60000/60000 [==============================] - 62s 1ms/step - loss: 8.2350e-04 - acc: 0.9997 - val_loss: 0.0083 - val_acc: 0.9983\n",
      "Epoch 27/30\n",
      "60000/60000 [==============================] - 61s 1ms/step - loss: 7.5599e-04 - acc: 0.9998 - val_loss: 0.0089 - val_acc: 0.9982\n",
      "Epoch 28/30\n",
      "60000/60000 [==============================] - 61s 1ms/step - loss: 0.0014 - acc: 0.9996 - val_loss: 0.0076 - val_acc: 0.9984\n",
      "Epoch 29/30\n",
      "60000/60000 [==============================] - 62s 1ms/step - loss: 5.4960e-04 - acc: 0.9998 - val_loss: 0.0090 - val_acc: 0.9983\n",
      "Epoch 30/30\n",
      "60000/60000 [==============================] - 62s 1ms/step - loss: 0.0011 - acc: 0.9996 - val_loss: 0.0091 - val_acc: 0.9984\n"
     ]
    }
   ],
   "source": [
    "model_0 = model.fit(x_train, y_train, \n",
    "          batch_size=64, \n",
    "          epochs=30, \n",
    "          verbose=1, \n",
    "          validation_data=(x_test, y_test))"
   ]
  },
  {
   "cell_type": "code",
   "execution_count": 11,
   "metadata": {
    "colab": {
     "base_uri": "https://localhost:8080/",
     "height": 295
    },
    "colab_type": "code",
    "id": "z4N1l5dg2F3e",
    "outputId": "e921e048-7617-44a8-f97c-5278fbc7d1a9"
   },
   "outputs": [
    {
     "data": {
      "image/png": "[encoded data removed]",
      "text/plain": [
       "<Figure size 432x288 with 1 Axes>"
      ]
     },
     "metadata": {
      "tags": []
     },
     "output_type": "display_data"
    }
   ],
   "source": [
    "plt.plot(model_0.history[\"acc\"])\n",
    "plt.title(\"trainning accuracy\")\n",
    "plt.xlabel(\"epoch\")\n",
    "plt.ylabel(\"accuracy\")\n",
    "\n",
    "plt.show()"
   ]
  },
  {
   "cell_type": "markdown",
   "metadata": {
    "colab_type": "text",
    "id": "98QioY66-yca"
   },
   "source": [
    "再用更小的learning rate去學習 ($lr = 10^{-3}$ -> $lr =  10^{-4}$)"
   ]
  },
  {
   "cell_type": "code",
   "execution_count": 0,
   "metadata": {
    "colab": {},
    "colab_type": "code",
    "id": "ti73oSE0-fWr"
   },
   "outputs": [],
   "source": [
    "model.compile(loss='binary_crossentropy', optimizer = Adam(lr = 0.0001, decay=1e-6), metrics = ['acc'])"
   ]
  },
  {
   "cell_type": "code",
   "execution_count": 16,
   "metadata": {
    "colab": {
     "base_uri": "https://localhost:8080/",
     "height": 306
    },
    "colab_type": "code",
    "id": "N7rw6t1t-ppY",
    "outputId": "29426805-0d7c-4eba-833a-e36a4b29a004"
   },
   "outputs": [
    {
     "name": "stdout",
     "output_type": "stream",
     "text": [
      "Train on 60000 samples, validate on 10000 samples\n",
      "Epoch 1/8\n",
      "60000/60000 [==============================] - 63s 1ms/step - loss: 2.8649e-05 - acc: 1.0000 - val_loss: 0.0080 - val_acc: 0.9988\n",
      "Epoch 2/8\n",
      "60000/60000 [==============================] - 64s 1ms/step - loss: 1.2891e-05 - acc: 1.0000 - val_loss: 0.0083 - val_acc: 0.9988\n",
      "Epoch 3/8\n",
      "60000/60000 [==============================] - 64s 1ms/step - loss: 2.5560e-06 - acc: 1.0000 - val_loss: 0.0082 - val_acc: 0.9988\n",
      "Epoch 4/8\n",
      "60000/60000 [==============================] - 64s 1ms/step - loss: 7.3860e-07 - acc: 1.0000 - val_loss: 0.0084 - val_acc: 0.9988\n",
      "Epoch 5/8\n",
      "60000/60000 [==============================] - 65s 1ms/step - loss: 5.1479e-07 - acc: 1.0000 - val_loss: 0.0086 - val_acc: 0.9988\n",
      "Epoch 6/8\n",
      "60000/60000 [==============================] - 64s 1ms/step - loss: 3.7774e-07 - acc: 1.0000 - val_loss: 0.0088 - val_acc: 0.9988\n",
      "Epoch 7/8\n",
      "60000/60000 [==============================] - 65s 1ms/step - loss: 2.8282e-07 - acc: 1.0000 - val_loss: 0.0090 - val_acc: 0.9988\n",
      "Epoch 8/8\n",
      "60000/60000 [==============================] - 65s 1ms/step - loss: 2.2105e-07 - acc: 1.0000 - val_loss: 0.0091 - val_acc: 0.9987\n"
     ]
    }
   ],
   "source": [
    "model_0 = model.fit(x_train, y_train, \n",
    "          batch_size=64, \n",
    "          epochs=8, \n",
    "          verbose=1, \n",
    "          validation_data=(x_test, y_test))"
   ]
  },
  {
   "cell_type": "code",
   "execution_count": 19,
   "metadata": {
    "colab": {
     "base_uri": "https://localhost:8080/",
     "height": 295
    },
    "colab_type": "code",
    "id": "_B0R1WHA_iOA",
    "outputId": "e0732a44-2e2d-4c86-a0e1-6353ed9c5b7b"
   },
   "outputs": [
    {
     "data": {
      "image/png": "[encoded data removed]",
      "text/plain": [
       "<Figure size 432x288 with 1 Axes>"
      ]
     },
     "metadata": {
      "tags": []
     },
     "output_type": "display_data"
    }
   ],
   "source": [
    "plt.plot(model_0.history[\"acc\"])\n",
    "plt.plot(model_0.history[\"val_acc\"],'r')\n",
    "plt.title(\"trainning accuracy\")\n",
    "plt.xlabel(\"epoch\")\n",
    "plt.ylabel(\"accuracy\")\n",
    "\n",
    "plt.show()"
   ]
  },
  {
   "cell_type": "code",
   "execution_count": 18,
   "metadata": {
    "colab": {
     "base_uri": "https://localhost:8080/",
     "height": 51
    },
    "colab_type": "code",
    "id": "f36VTZno8k8N",
    "outputId": "0af5c9fa-c6d0-4822-abfa-960d83b76875"
   },
   "outputs": [
    {
     "name": "stdout",
     "output_type": "stream",
     "text": [
      "10000/10000 [==============================] - 4s 386us/step\n",
      "accuracy: 0.9987500041723252\n"
     ]
    }
   ],
   "source": [
    "score = model.evaluate(x_test, y_test, batch_size=100)\n",
    "print('accuracy:', score[1])"
   ]
  },
  {
   "cell_type": "markdown",
   "metadata": {
    "colab_type": "text",
    "id": "yGX7zY9L_5CQ"
   },
   "source": [
    "完美的overfit to data，不過準確率達到 0.9987 還可以接受 "
   ]
  }
 ],
 "metadata": {
  "accelerator": "TPU",
  "colab": {
   "collapsed_sections": [],
   "name": "CNN_best.ipynb",
   "provenance": [],
   "version": "0.3.2"
  },
  "kernelspec": {
   "display_name": "Python 3",
   "language": "python",
   "name": "python3"
  },
  "language_info": {
   "codemirror_mode": {
    "name": "ipython",
    "version": 3
   },
   "file_extension": ".py",
   "mimetype": "text/x-python",
   "name": "python",
   "nbconvert_exporter": "python",
   "pygments_lexer": "ipython3",
   "version": "3.6.8"
  }
 },
 "nbformat": 4,
 "nbformat_minor": 1
}
