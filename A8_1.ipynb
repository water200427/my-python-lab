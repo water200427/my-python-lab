{
 "cells": [
  {
   "cell_type": "code",
   "execution_count": 2,
   "metadata": {
    "colab": {
     "base_uri": "https://localhost:8080/",
     "height": 34
    },
    "colab_type": "code",
    "id": "D85d4ZEIBWAc",
    "outputId": "bf2df4f0-9cf7-48ee-c54d-8d89f13008b6"
   },
   "outputs": [
    {
     "name": "stdout",
     "output_type": "stream",
     "text": [
      "env: KERAS_BACKEND=tensorflow\n"
     ]
    }
   ],
   "source": [
    "%env KERAS_BACKEND=tensorflow"
   ]
  },
  {
   "cell_type": "code",
   "execution_count": 0,
   "metadata": {
    "colab": {},
    "colab_type": "code",
    "id": "Nt1cZJaxBdrS"
   },
   "outputs": [],
   "source": [
    "%matplotlib inline\n",
    "import matplotlib.pyplot as plt\n",
    "import numpy as np"
   ]
  },
  {
   "cell_type": "code",
   "execution_count": 4,
   "metadata": {
    "colab": {
     "base_uri": "https://localhost:8080/",
     "height": 34
    },
    "colab_type": "code",
    "id": "RzbLVoHcBgJs",
    "outputId": "043ab95c-b173-41ad-f82e-d2a266ccec60"
   },
   "outputs": [
    {
     "name": "stderr",
     "output_type": "stream",
     "text": [
      "Using TensorFlow backend.\n"
     ]
    }
   ],
   "source": [
    "# Keras functions\n",
    "from keras.models import Sequential\n",
    "from keras.layers import Dense, Activation\n",
    "from keras.optimizers import SGD\n",
    "\n",
    "# Keras dataset\n",
    "from keras.datasets import mnist\n",
    "\n",
    "# Keras utils\n",
    "from keras.utils import np_utils"
   ]
  },
  {
   "cell_type": "code",
   "execution_count": 5,
   "metadata": {
    "colab": {
     "base_uri": "https://localhost:8080/",
     "height": 51
    },
    "colab_type": "code",
    "id": "SnJYhnMdBlQG",
    "outputId": "d39eafd7-33fe-40bc-9ac8-efa6a056ee9c"
   },
   "outputs": [
    {
     "name": "stdout",
     "output_type": "stream",
     "text": [
      "Downloading data from https://s3.amazonaws.com/img-datasets/mnist.npz\n",
      "11493376/11490434 [==============================] - 0s 0us/step\n"
     ]
    }
   ],
   "source": [
    "(x_train, y_train),(x_test,y_test) = mnist.load_data()"
   ]
  },
  {
   "cell_type": "code",
   "execution_count": 0,
   "metadata": {
    "colab": {},
    "colab_type": "code",
    "id": "NOXkpVTiFyWS"
   },
   "outputs": [],
   "source": [
    "x_train = x_train.reshape(60000, 28*28)\n",
    "x_test = x_test.reshape(10000, 28*28)"
   ]
  },
  {
   "cell_type": "code",
   "execution_count": 0,
   "metadata": {
    "colab": {},
    "colab_type": "code",
    "id": "v6zVYofnBsPU"
   },
   "outputs": [],
   "source": [
    "x_train -= x_train.min()\n",
    "x_train = x_train/x_train.max()\n",
    "x_test -= x_test.min()\n",
    "x_test = x_test/x_test.max()"
   ]
  },
  {
   "cell_type": "code",
   "execution_count": 0,
   "metadata": {
    "colab": {},
    "colab_type": "code",
    "id": "E04D57iGDOov"
   },
   "outputs": [],
   "source": [
    "y_train = np_utils.to_categorical(y_train, 10)\n",
    "y_test = np_utils.to_categorical(y_test, 10)"
   ]
  },
  {
   "cell_type": "code",
   "execution_count": 0,
   "metadata": {
    "colab": {},
    "colab_type": "code",
    "id": "9eWmksS3B8OA"
   },
   "outputs": [],
   "source": [
    "from keras.models import Model\n",
    "from keras.layers import Input"
   ]
  },
  {
   "cell_type": "code",
   "execution_count": 0,
   "metadata": {
    "colab": {},
    "colab_type": "code",
    "id": "fFo9-e_3DbMN"
   },
   "outputs": [],
   "source": [
    "x = Input(shape=(784,))"
   ]
  },
  {
   "cell_type": "code",
   "execution_count": 0,
   "metadata": {
    "colab": {},
    "colab_type": "code",
    "id": "FpMqiViwCS5O"
   },
   "outputs": [],
   "source": [
    "f_0 = Dense(512, activation='sigmoid')\n",
    "f_1 = Dense(128, activation='sigmoid')\n",
    "f_2 = Dense(128, activation='relu')\n",
    "f_3 = Dense(64, activation='sigmoid')\n",
    "f_4 = Dense(64, activation='relu')\n",
    "f_5 = Dense(10, activation='softmax')"
   ]
  },
  {
   "cell_type": "code",
   "execution_count": 0,
   "metadata": {
    "colab": {},
    "colab_type": "code",
    "id": "dGL7Psb9Elgz"
   },
   "outputs": [],
   "source": [
    "from keras.layers import concatenate, add"
   ]
  },
  {
   "cell_type": "code",
   "execution_count": 0,
   "metadata": {
    "colab": {},
    "colab_type": "code",
    "id": "f2crUrNHDG4V"
   },
   "outputs": [],
   "source": [
    "x = Input(shape=(784,))"
   ]
  },
  {
   "cell_type": "code",
   "execution_count": 14,
   "metadata": {
    "colab": {
     "base_uri": "https://localhost:8080/",
     "height": 88
    },
    "colab_type": "code",
    "id": "BbyhpEF7DWHP",
    "outputId": "fd0b373e-eedc-446b-b5c0-408b32d70161"
   },
   "outputs": [
    {
     "name": "stdout",
     "output_type": "stream",
     "text": [
      "WARNING:tensorflow:From /usr/local/lib/python3.6/dist-packages/tensorflow/python/framework/op_def_library.py:263: colocate_with (from tensorflow.python.framework.ops) is deprecated and will be removed in a future version.\n",
      "Instructions for updating:\n",
      "Colocations handled automatically by placer.\n"
     ]
    }
   ],
   "source": [
    "h1 = f_0(x)\n",
    "h2 = f_1(h1)\n",
    "h3 = f_2(h1)\n",
    "h4 = f_3(h3)\n",
    "h5 = f_4(h3)\n",
    "\n",
    "u = concatenate([h2, h4, h5])\n",
    "\n",
    "y = f_5(u)"
   ]
  },
  {
   "cell_type": "code",
   "execution_count": 15,
   "metadata": {
    "colab": {
     "base_uri": "https://localhost:8080/",
     "height": 442
    },
    "colab_type": "code",
    "id": "v6prH46EEThg",
    "outputId": "0385a5cd-c4a4-4578-b876-068c24d86bd1"
   },
   "outputs": [
    {
     "name": "stdout",
     "output_type": "stream",
     "text": [
      "__________________________________________________________________________________________________\n",
      "Layer (type)                    Output Shape         Param #     Connected to                     \n",
      "==================================================================================================\n",
      "input_2 (InputLayer)            (None, 784)          0                                            \n",
      "__________________________________________________________________________________________________\n",
      "dense_1 (Dense)                 (None, 512)          401920      input_2[0][0]                    \n",
      "__________________________________________________________________________________________________\n",
      "dense_3 (Dense)                 (None, 128)          65664       dense_1[0][0]                    \n",
      "__________________________________________________________________________________________________\n",
      "dense_2 (Dense)                 (None, 128)          65664       dense_1[0][0]                    \n",
      "__________________________________________________________________________________________________\n",
      "dense_4 (Dense)                 (None, 64)           8256        dense_3[0][0]                    \n",
      "__________________________________________________________________________________________________\n",
      "dense_5 (Dense)                 (None, 64)           8256        dense_3[0][0]                    \n",
      "__________________________________________________________________________________________________\n",
      "concatenate_1 (Concatenate)     (None, 256)          0           dense_2[0][0]                    \n",
      "                                                                 dense_4[0][0]                    \n",
      "                                                                 dense_5[0][0]                    \n",
      "__________________________________________________________________________________________________\n",
      "dense_6 (Dense)                 (None, 10)           2570        concatenate_1[0][0]              \n",
      "==================================================================================================\n",
      "Total params: 552,330\n",
      "Trainable params: 552,330\n",
      "Non-trainable params: 0\n",
      "__________________________________________________________________________________________________\n"
     ]
    }
   ],
   "source": [
    "model = Model(x, y)\n",
    "model.summary()"
   ]
  },
  {
   "cell_type": "code",
   "execution_count": 0,
   "metadata": {
    "colab": {},
    "colab_type": "code",
    "id": "TgHz8XzpE7x0"
   },
   "outputs": [],
   "source": [
    "model.compile(optimizer=SGD(lr=0.0548), loss='mse', metrics=['acc'])"
   ]
  },
  {
   "cell_type": "code",
   "execution_count": 17,
   "metadata": {
    "colab": {
     "base_uri": "https://localhost:8080/",
     "height": 802
    },
    "colab_type": "code",
    "id": "J2vcrkl2FRsJ",
    "outputId": "83f9102e-f741-4fa2-c5f2-f275624f84af"
   },
   "outputs": [
    {
     "name": "stdout",
     "output_type": "stream",
     "text": [
      "WARNING:tensorflow:From /usr/local/lib/python3.6/dist-packages/tensorflow/python/ops/math_ops.py:3066: to_int32 (from tensorflow.python.ops.math_ops) is deprecated and will be removed in a future version.\n",
      "Instructions for updating:\n",
      "Use tf.cast instead.\n",
      "Train on 60000 samples, validate on 10000 samples\n",
      "Epoch 1/20\n",
      "60000/60000 [==============================] - 8s 138us/step - loss: 0.0897 - acc: 0.1991 - val_loss: 0.0890 - val_acc: 0.2300\n",
      "Epoch 2/20\n",
      "60000/60000 [==============================] - 8s 131us/step - loss: 0.0885 - acc: 0.2392 - val_loss: 0.0879 - val_acc: 0.2336\n",
      "Epoch 3/20\n",
      "60000/60000 [==============================] - 8s 129us/step - loss: 0.0872 - acc: 0.2300 - val_loss: 0.0862 - val_acc: 0.2328\n",
      "Epoch 4/20\n",
      "60000/60000 [==============================] - 8s 128us/step - loss: 0.0848 - acc: 0.2299 - val_loss: 0.0830 - val_acc: 0.2298\n",
      "Epoch 5/20\n",
      "60000/60000 [==============================] - 8s 128us/step - loss: 0.0808 - acc: 0.2626 - val_loss: 0.0781 - val_acc: 0.3133\n",
      "Epoch 6/20\n",
      "60000/60000 [==============================] - 8s 127us/step - loss: 0.0759 - acc: 0.3553 - val_loss: 0.0734 - val_acc: 0.3842\n",
      "Epoch 7/20\n",
      "60000/60000 [==============================] - 8s 128us/step - loss: 0.0715 - acc: 0.4183 - val_loss: 0.0691 - val_acc: 0.4494\n",
      "Epoch 8/20\n",
      "60000/60000 [==============================] - 8s 129us/step - loss: 0.0672 - acc: 0.4655 - val_loss: 0.0644 - val_acc: 0.4856\n",
      "Epoch 9/20\n",
      "60000/60000 [==============================] - 8s 128us/step - loss: 0.0620 - acc: 0.5324 - val_loss: 0.0587 - val_acc: 0.5723\n",
      "Epoch 10/20\n",
      "60000/60000 [==============================] - 8s 128us/step - loss: 0.0561 - acc: 0.6086 - val_loss: 0.0526 - val_acc: 0.6350\n",
      "Epoch 11/20\n",
      "60000/60000 [==============================] - 8s 128us/step - loss: 0.0499 - acc: 0.6702 - val_loss: 0.0463 - val_acc: 0.6822\n",
      "Epoch 12/20\n",
      "60000/60000 [==============================] - 7s 123us/step - loss: 0.0439 - acc: 0.7318 - val_loss: 0.0406 - val_acc: 0.7699\n",
      "Epoch 13/20\n",
      "60000/60000 [==============================] - 8s 126us/step - loss: 0.0388 - acc: 0.7793 - val_loss: 0.0359 - val_acc: 0.8022\n",
      "Epoch 14/20\n",
      "60000/60000 [==============================] - 7s 125us/step - loss: 0.0345 - acc: 0.8056 - val_loss: 0.0320 - val_acc: 0.8228\n",
      "Epoch 15/20\n",
      "60000/60000 [==============================] - 8s 125us/step - loss: 0.0311 - acc: 0.8201 - val_loss: 0.0289 - val_acc: 0.8356\n",
      "Epoch 16/20\n",
      "60000/60000 [==============================] - 8s 125us/step - loss: 0.0285 - acc: 0.8327 - val_loss: 0.0265 - val_acc: 0.8449\n",
      "Epoch 17/20\n",
      "60000/60000 [==============================] - 8s 126us/step - loss: 0.0264 - acc: 0.8428 - val_loss: 0.0247 - val_acc: 0.8494\n",
      "Epoch 18/20\n",
      "60000/60000 [==============================] - 7s 124us/step - loss: 0.0247 - acc: 0.8512 - val_loss: 0.0231 - val_acc: 0.8601\n",
      "Epoch 19/20\n",
      "60000/60000 [==============================] - 7s 121us/step - loss: 0.0234 - acc: 0.8578 - val_loss: 0.0218 - val_acc: 0.8627\n",
      "Epoch 20/20\n",
      "60000/60000 [==============================] - 7s 121us/step - loss: 0.0222 - acc: 0.8634 - val_loss: 0.0208 - val_acc: 0.8708\n"
     ]
    },
    {
     "data": {
      "text/plain": [
       "<keras.callbacks.History at 0x7fb33200ada0>"
      ]
     },
     "execution_count": 17,
     "metadata": {
      "tags": []
     },
     "output_type": "execute_result"
    }
   ],
   "source": [
    "model.fit(x_train, y_train, \n",
    "          batch_size=100, \n",
    "          epochs=20, \n",
    "          verbose=1, \n",
    "          validation_data=(x_test, y_test))"
   ]
  },
  {
   "cell_type": "code",
   "execution_count": 0,
   "metadata": {
    "colab": {},
    "colab_type": "code",
    "id": "eEztrkMYFdvq"
   },
   "outputs": [],
   "source": [
    "model.fit(x_train, y_train, \n",
    "          batch_size=100, \n",
    "          epochs=5, \n",
    "          verbose=1, \n",
    "          validation_data=(x_test, y_test))"
   ]
  },
  {
   "cell_type": "code",
   "execution_count": 21,
   "metadata": {
    "colab": {
     "base_uri": "https://localhost:8080/",
     "height": 68
    },
    "colab_type": "code",
    "id": "foOIyeCFHPAV",
    "outputId": "fb289418-6d78-4b70-db64-243d4b1a2b7e"
   },
   "outputs": [
    {
     "name": "stdout",
     "output_type": "stream",
     "text": [
      "60000/60000 [==============================] - 2s 29us/step\n",
      "Loss: 0.017425\n",
      "準確率: 0.889933 \n"
     ]
    }
   ],
   "source": [
    "score = model.evaluate(x_train, y_train, batch_size=1000)\n",
    "print(\"Loss: %f\" %score[0])\n",
    "print(\"準確率: %f \" %(score[1]))"
   ]
  },
  {
   "cell_type": "markdown",
   "metadata": {
    "colab_type": "text",
    "id": "eH8LSpBnHsw_"
   },
   "source": [
    "分支後不一定會比較好..\n"
   ]
  },
  {
   "cell_type": "markdown",
   "metadata": {
    "colab": {},
    "colab_type": "code",
    "id": "L56mvailHmY6"
   },
   "source": [
    "![pic](001.jpg)"
   ]
  },
  {
   "cell_type": "code",
   "execution_count": null,
   "metadata": {},
   "outputs": [],
   "source": []
  }
 ],
 "metadata": {
  "accelerator": "TPU",
  "colab": {
   "collapsed_sections": [],
   "name": "A8-1.ipynb",
   "provenance": [],
   "version": "0.3.2"
  },
  "kernelspec": {
   "display_name": "Python 3",
   "language": "python",
   "name": "python3"
  },
  "language_info": {
   "codemirror_mode": {
    "name": "ipython",
    "version": 3
   },
   "file_extension": ".py",
   "mimetype": "text/x-python",
   "name": "python",
   "nbconvert_exporter": "python",
   "pygments_lexer": "ipython3",
   "version": "3.6.8"
  }
 },
 "nbformat": 4,
 "nbformat_minor": 1
}
