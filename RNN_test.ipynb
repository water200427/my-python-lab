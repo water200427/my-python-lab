{
  "nbformat": 4,
  "nbformat_minor": 0,
  "metadata": {
    "colab": {
      "name": "RNN_test.ipynb",
      "version": "0.3.2",
      "provenance": []
    },
    "kernelspec": {
      "name": "python3",
      "display_name": "Python 3"
    },
    "accelerator": "TPU"
  },
  "cells": [
    {
      "cell_type": "code",
      "metadata": {
        "id": "Ji16UcD9lBLH",
        "colab_type": "code",
        "outputId": "22284dfc-99e3-4a23-9bf3-798752367a8a",
        "colab": {
          "base_uri": "https://localhost:8080/",
          "height": 34
        }
      },
      "source": [
        "env KERAS_BACKEND=tensorflow"
      ],
      "execution_count": 1,
      "outputs": [
        {
          "output_type": "stream",
          "text": [
            "env: KERAS_BACKEND=tensorflow\n"
          ],
          "name": "stdout"
        }
      ]
    },
    {
      "cell_type": "code",
      "metadata": {
        "id": "YyqdvJjxF1R4",
        "colab_type": "code",
        "colab": {
          "base_uri": "https://localhost:8080/",
          "height": 34
        },
        "outputId": "ba7c0367-10e0-4e2f-f852-69610ff5e2e1"
      },
      "source": [
        "!pip install numpy==1.16.2\n",
        "\n"
      ],
      "execution_count": 2,
      "outputs": [
        {
          "output_type": "stream",
          "text": [
            "Requirement already satisfied: numpy==1.16.2 in /usr/local/lib/python3.6/dist-packages (1.16.2)\n"
          ],
          "name": "stdout"
        }
      ]
    },
    {
      "cell_type": "code",
      "metadata": {
        "id": "j5j7kcfglEWb",
        "colab_type": "code",
        "colab": {}
      },
      "source": [
        "%matplotlib inline\n",
        "import matplotlib.pyplot as plt\n",
        "import numpy as np"
      ],
      "execution_count": 0,
      "outputs": []
    },
    {
      "cell_type": "code",
      "metadata": {
        "id": "vOxa_Wm9lGjr",
        "colab_type": "code",
        "colab": {
          "base_uri": "https://localhost:8080/",
          "height": 34
        },
        "outputId": "b8975790-ee40-4d36-fad6-8455764ff22a"
      },
      "source": [
        "from keras.datasets import imdb\n",
        "from keras.preprocessing import sequence\n",
        "from keras.models import Sequential\n",
        "from keras.layers import Dense, Embedding, LSTM, Dropout\n",
        "from keras.optimizers import Adam\n",
        "from keras.callbacks import ModelCheckpoint"
      ],
      "execution_count": 4,
      "outputs": [
        {
          "output_type": "stream",
          "text": [
            "Using TensorFlow backend.\n"
          ],
          "name": "stderr"
        }
      ]
    },
    {
      "cell_type": "code",
      "metadata": {
        "id": "PKMcC49Glqp_",
        "colab_type": "code",
        "colab": {}
      },
      "source": [
        "(x_train, y_train), (x_test, y_test) = imdb.load_data(num_words=10000)"
      ],
      "execution_count": 0,
      "outputs": []
    },
    {
      "cell_type": "markdown",
      "metadata": {
        "id": "GyKYdB32na2L",
        "colab_type": "text"
      },
      "source": [
        "最大長度改成192"
      ]
    },
    {
      "cell_type": "code",
      "metadata": {
        "id": "NA_m8SG8l66G",
        "colab_type": "code",
        "colab": {}
      },
      "source": [
        "x_train = sequence.pad_sequences(x_train, maxlen = 192)\n",
        "x_test = sequence.pad_sequences(x_test, maxlen = 192)"
      ],
      "execution_count": 0,
      "outputs": []
    },
    {
      "cell_type": "markdown",
      "metadata": {
        "id": "SqWAKgSgnoV8",
        "colab_type": "text"
      },
      "source": [
        "試了許多N, K 發現不管怎麼取，大概的acc都可以到80+，但val_acc都沒有超過87%"
      ]
    },
    {
      "cell_type": "markdown",
      "metadata": {
        "id": "MCqs7-VLoDc4",
        "colab_type": "text"
      },
      "source": [
        "後來想想為什麼N=3會works，想說就大概把字分為: 好評，不影響，差評，3類。  \n",
        "而這裡我們加強分類，把字分為: 極好評，好評，不影響，差評，極差評 5類，所以N = 5  \n",
        "  \n",
        "  而K就稍微取大一點\n"
      ]
    },
    {
      "cell_type": "code",
      "metadata": {
        "id": "LCVhRfRnmZ3X",
        "colab_type": "code",
        "colab": {}
      },
      "source": [
        "N = 5 \n",
        "K = 8"
      ],
      "execution_count": 0,
      "outputs": []
    },
    {
      "cell_type": "markdown",
      "metadata": {
        "id": "EEDwfxSopquy",
        "colab_type": "text"
      },
      "source": [
        "觀摩其他大大，也加入Dropout層"
      ]
    },
    {
      "cell_type": "code",
      "metadata": {
        "id": "1Z3jHYLQGzDG",
        "colab_type": "code",
        "colab": {
          "base_uri": "https://localhost:8080/",
          "height": 139
        },
        "outputId": "e47dbf52-129d-4be5-cc41-7568fa5c7531"
      },
      "source": [
        "model = Sequential()\n",
        "\n",
        "model.add(Embedding(10000, N))\n",
        "model.add(Dropout(0.5))\n",
        "\n",
        "model.add(LSTM(K))\n",
        "model.add(Dropout(0.28))\n",
        "\n",
        "model.add(Dense(1, activation='sigmoid'))"
      ],
      "execution_count": 8,
      "outputs": [
        {
          "output_type": "stream",
          "text": [
            "WARNING:tensorflow:From /usr/local/lib/python3.6/dist-packages/tensorflow/python/framework/op_def_library.py:263: colocate_with (from tensorflow.python.framework.ops) is deprecated and will be removed in a future version.\n",
            "Instructions for updating:\n",
            "Colocations handled automatically by placer.\n",
            "WARNING:tensorflow:From /usr/local/lib/python3.6/dist-packages/keras/backend/tensorflow_backend.py:3445: calling dropout (from tensorflow.python.ops.nn_ops) with keep_prob is deprecated and will be removed in a future version.\n",
            "Instructions for updating:\n",
            "Please use `rate` instead of `keep_prob`. Rate should be set to `rate = 1 - keep_prob`.\n"
          ],
          "name": "stdout"
        }
      ]
    },
    {
      "cell_type": "code",
      "metadata": {
        "id": "Av_mdMxhG0FO",
        "colab_type": "code",
        "colab": {}
      },
      "source": [
        "model.compile(loss = 'binary_crossentropy',\n",
        "             optimizer = 'Adam',\n",
        "             metrics=['acc'])"
      ],
      "execution_count": 0,
      "outputs": []
    },
    {
      "cell_type": "code",
      "metadata": {
        "id": "AJIlWbmVG14L",
        "colab_type": "code",
        "colab": {
          "base_uri": "https://localhost:8080/",
          "height": 306
        },
        "outputId": "7ed748f8-8676-4df7-ed84-49eafc8ffc81"
      },
      "source": [
        "model.summary()"
      ],
      "execution_count": 10,
      "outputs": [
        {
          "output_type": "stream",
          "text": [
            "_________________________________________________________________\n",
            "Layer (type)                 Output Shape              Param #   \n",
            "=================================================================\n",
            "embedding_1 (Embedding)      (None, None, 5)           50000     \n",
            "_________________________________________________________________\n",
            "dropout_1 (Dropout)          (None, None, 5)           0         \n",
            "_________________________________________________________________\n",
            "lstm_1 (LSTM)                (None, 8)                 448       \n",
            "_________________________________________________________________\n",
            "dropout_2 (Dropout)          (None, 8)                 0         \n",
            "_________________________________________________________________\n",
            "dense_1 (Dense)              (None, 1)                 9         \n",
            "=================================================================\n",
            "Total params: 50,457\n",
            "Trainable params: 50,457\n",
            "Non-trainable params: 0\n",
            "_________________________________________________________________\n"
          ],
          "name": "stdout"
        }
      ]
    },
    {
      "cell_type": "code",
      "metadata": {
        "id": "GSZKQdXVmlIv",
        "colab_type": "code",
        "colab": {}
      },
      "source": [
        "filepath=\"weights-improvement-{epoch:02d}-{val_acc:.2f}.hdf5\"\n",
        "checkpoint = ModelCheckpoint(filepath, monitor='val_acc', verbose=1, save_best_only=True, mode='max')\n",
        "callbacks_list = [checkpoint]"
      ],
      "execution_count": 0,
      "outputs": []
    },
    {
      "cell_type": "code",
      "metadata": {
        "id": "1t8l039nG4kt",
        "colab_type": "code",
        "colab": {
          "base_uri": "https://localhost:8080/",
          "height": 649
        },
        "outputId": "e1c5cf3b-225c-417c-891c-d74f8e7a4faf"
      },
      "source": [
        "model_his = model.fit(x_train, y_train,\n",
        "                   batch_size=32,\n",
        "                   epochs=8,\n",
        "                   verbose=1, \n",
        "                   validation_data=(x_test, y_test),\n",
        "                   callbacks=callbacks_list)"
      ],
      "execution_count": 12,
      "outputs": [
        {
          "output_type": "stream",
          "text": [
            "WARNING:tensorflow:From /usr/local/lib/python3.6/dist-packages/tensorflow/python/ops/math_ops.py:3066: to_int32 (from tensorflow.python.ops.math_ops) is deprecated and will be removed in a future version.\n",
            "Instructions for updating:\n",
            "Use tf.cast instead.\n",
            "Train on 25000 samples, validate on 25000 samples\n",
            "Epoch 1/8\n",
            "25000/25000 [==============================] - 79s 3ms/step - loss: 0.5677 - acc: 0.7099 - val_loss: 0.4144 - val_acc: 0.8152\n",
            "\n",
            "Epoch 00001: val_acc improved from -inf to 0.81524, saving model to weights-improvement-01-0.82.hdf5\n",
            "Epoch 2/8\n",
            "25000/25000 [==============================] - 77s 3ms/step - loss: 0.3544 - acc: 0.8596 - val_loss: 0.3062 - val_acc: 0.8728\n",
            "\n",
            "Epoch 00002: val_acc improved from 0.81524 to 0.87280, saving model to weights-improvement-02-0.87.hdf5\n",
            "Epoch 3/8\n",
            "25000/25000 [==============================] - 77s 3ms/step - loss: 0.2866 - acc: 0.8919 - val_loss: 0.2962 - val_acc: 0.8759\n",
            "\n",
            "Epoch 00003: val_acc improved from 0.87280 to 0.87588, saving model to weights-improvement-03-0.88.hdf5\n",
            "Epoch 4/8\n",
            "25000/25000 [==============================] - 76s 3ms/step - loss: 0.2542 - acc: 0.9054 - val_loss: 0.3066 - val_acc: 0.8686\n",
            "\n",
            "Epoch 00004: val_acc did not improve from 0.87588\n",
            "Epoch 5/8\n",
            "25000/25000 [==============================] - 78s 3ms/step - loss: 0.2264 - acc: 0.9169 - val_loss: 0.3607 - val_acc: 0.8585\n",
            "\n",
            "Epoch 00005: val_acc did not improve from 0.87588\n",
            "Epoch 6/8\n",
            "25000/25000 [==============================] - 78s 3ms/step - loss: 0.2135 - acc: 0.9219 - val_loss: 0.3441 - val_acc: 0.8702\n",
            "\n",
            "Epoch 00006: val_acc did not improve from 0.87588\n",
            "Epoch 7/8\n",
            "25000/25000 [==============================] - 78s 3ms/step - loss: 0.1996 - acc: 0.9274 - val_loss: 0.3690 - val_acc: 0.8619\n",
            "\n",
            "Epoch 00007: val_acc did not improve from 0.87588\n",
            "Epoch 8/8\n",
            "25000/25000 [==============================] - 77s 3ms/step - loss: 0.1955 - acc: 0.9294 - val_loss: 0.3364 - val_acc: 0.8685\n",
            "\n",
            "Epoch 00008: val_acc did not improve from 0.87588\n"
          ],
          "name": "stdout"
        }
      ]
    },
    {
      "cell_type": "markdown",
      "metadata": {
        "id": "9FwgucSrtcyw",
        "colab_type": "text"
      },
      "source": [
        "最後取最高的val_acc達到87.588%"
      ]
    },
    {
      "cell_type": "code",
      "metadata": {
        "id": "KOGGo_PXx0AP",
        "colab_type": "code",
        "colab": {}
      },
      "source": [
        ""
      ],
      "execution_count": 0,
      "outputs": []
    }
  ]
}